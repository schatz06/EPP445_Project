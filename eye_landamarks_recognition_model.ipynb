{
  "nbformat": 4,
  "nbformat_minor": 0,
  "metadata": {
    "colab": {
      "name": "eye_landamarks_recognition_model.ipynb",
      "provenance": [],
      "authorship_tag": "ABX9TyNglyjwRcfTJ3BNVITGdjEp",
      "include_colab_link": true
    },
    "kernelspec": {
      "name": "python3",
      "display_name": "Python 3"
    }
  },
  "cells": [
    {
      "cell_type": "markdown",
      "metadata": {
        "id": "view-in-github",
        "colab_type": "text"
      },
      "source": [
        "<a href=\"https://colab.research.google.com/github/schatz06/EPP445_Project/blob/main/eye_landamarks_recognition_model.ipynb\" target=\"_parent\"><img src=\"https://colab.research.google.com/assets/colab-badge.svg\" alt=\"Open In Colab\"/></a>"
      ]
    },
    {
      "cell_type": "markdown",
      "metadata": {
        "id": "JjaydGdNhFTf"
      },
      "source": [
        "Import necessary packages"
      ]
    },
    {
      "cell_type": "code",
      "metadata": {
        "id": "ZndBpti9hIu7"
      },
      "source": [
        "import cv2\n",
        "import dlib\n",
        "import os\n",
        "import re"
      ],
      "execution_count": 2,
      "outputs": []
    },
    {
      "cell_type": "markdown",
      "metadata": {
        "id": "ubMnt8oKtwG-"
      },
      "source": [
        "Regex"
      ]
    },
    {
      "cell_type": "code",
      "metadata": {
        "id": "EshJoGsftxjF"
      },
      "source": [
        "REG_PART = re.compile(\"part name='[0-9]+'\")\n",
        "REG_NUM = re.compile(\"[0-9]+\")"
      ],
      "execution_count": 13,
      "outputs": []
    },
    {
      "cell_type": "markdown",
      "metadata": {
        "id": "VL1sIq_0hneR"
      },
      "source": [
        "Here we define the landmark point for the eyes.\n",
        "\n",
        "*   68 point in a face\n",
        "*   22 points for eyes and eyebrows\n",
        "\n",
        "\n",
        "\n",
        "\n"
      ]
    },
    {
      "cell_type": "code",
      "metadata": {
        "id": "UQnad--AhyzJ"
      },
      "source": [
        "EYE_EYEBROWS = [17, 18, 19, 20, 21, 22, 23, 24, 25, 26, 36, 37, 38, 39,\n",
        "                40, 41, 42, 43, 44, 45, 46, 47]"
      ],
      "execution_count": 3,
      "outputs": []
    },
    {
      "cell_type": "markdown",
      "metadata": {
        "id": "CNO2si08lB75"
      },
      "source": [
        "Dataset used iBug 300W\n",
        "\n",
        "\n",
        "*   Download\n",
        "*   Extract\n",
        "\n",
        "\n",
        "\n",
        "\n"
      ]
    },
    {
      "cell_type": "code",
      "metadata": {
        "id": "3W0ky1TcoVBm"
      },
      "source": [
        "!wget http://dlib.net/files/data/ibug_300W_large_face_landmark_dataset.tar.gz"
      ],
      "execution_count": null,
      "outputs": []
    },
    {
      "cell_type": "code",
      "metadata": {
        "id": "UkZf0JNAtCPQ"
      },
      "source": [
        "!tar xvzf ibug_300W_large_face_landmark_dataset.tar.gz"
      ],
      "execution_count": null,
      "outputs": []
    },
    {
      "cell_type": "markdown",
      "metadata": {
        "id": "ZPoO0px5t9g_"
      },
      "source": [
        "Paths "
      ]
    },
    {
      "cell_type": "code",
      "metadata": {
        "id": "CE4bu2gSuCfq"
      },
      "source": [
        "ibug_dir = \"ibug_300W_large_face_landmark_dataset\"\n",
        "train_labels = \"labels_ibug_300W_train.xml\"\n",
        "test_labels = \"labels_ibug_300W_test.xml\""
      ],
      "execution_count": 14,
      "outputs": []
    },
    {
      "cell_type": "markdown",
      "metadata": {
        "id": "wOQ7h7DQuR8Z"
      },
      "source": [
        ""
      ]
    }
  ]
}